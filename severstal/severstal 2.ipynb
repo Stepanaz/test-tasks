{
 "cells": [
  {
   "cell_type": "code",
   "execution_count": 1,
   "metadata": {
    "collapsed": true
   },
   "outputs": [],
   "source": [
    "import pandas as pd\n",
    "import sklearn.linear_model as ln\n",
    "import matplotlib.pyplot as plt\n",
    "import numpy as np\n",
    "import seaborn as sns"
   ]
  },
  {
   "cell_type": "code",
   "execution_count": 2,
   "outputs": [],
   "source": [
    "df = pd.read_csv(\"X_data.csv\", index_col=\"Unnamed: 0\", parse_dates=True, sep = ';')\n",
    "df.index.names = [\"Date\"]\n"
   ],
   "metadata": {
    "collapsed": false,
    "pycharm": {
     "name": "#%%\n"
    }
   }
  },
  {
   "cell_type": "code",
   "execution_count": 3,
   "outputs": [
    {
     "data": {
      "text/plain": "                     T_data_1_1  T_data_1_2  T_data_1_3  T_data_2_1  \\\nDate                                                                  \n2015-01-01 00:00:00         212         210         211         347   \n2015-01-01 00:01:00         212         211         211         346   \n2015-01-01 00:02:00         212         211         211         345   \n2015-01-01 00:03:00         213         211         211         344   \n2015-01-01 00:04:00         213         211         211         343   \n2015-01-01 00:05:00         213         211         211         342   \n2015-01-01 00:06:00         213         212         211         341   \n\n                     T_data_2_2  T_data_2_3  T_data_3_1  T_data_3_2  \\\nDate                                                                  \n2015-01-01 00:00:00         353         347         474         473   \n2015-01-01 00:01:00         352         346         475         473   \n2015-01-01 00:02:00         352         346         476         473   \n2015-01-01 00:03:00         351         346         477         473   \n2015-01-01 00:04:00         350         346         478         473   \n2015-01-01 00:05:00         350         346         479         473   \n2015-01-01 00:06:00         349         346         480         473   \n\n                     T_data_3_3  T_data_4_1  T_data_4_2  T_data_4_3  \\\nDate                                                                  \n2015-01-01 00:00:00         481         346         348         355   \n2015-01-01 00:01:00         481         349         348         355   \n2015-01-01 00:02:00         481         352         349         355   \n2015-01-01 00:03:00         481         355         349         355   \n2015-01-01 00:04:00         482         358         349         355   \n2015-01-01 00:05:00         482         360         349         354   \n2015-01-01 00:06:00         482         363         350         354   \n\n                     T_data_5_1  T_data_5_2  T_data_5_3  H_data  AH_data  \nDate                                                                      \n2015-01-01 00:00:00         241         241         243  167.85     9.22  \n2015-01-01 00:01:00         241         241         243  162.51     9.22  \n2015-01-01 00:02:00         242         241         242  164.99     9.22  \n2015-01-01 00:03:00         242         241         242  167.34     9.22  \n2015-01-01 00:04:00         243         241         242  163.04     9.22  \n2015-01-01 00:05:00         243         241         242  163.81     9.22  \n2015-01-01 00:06:00         244         241         242  166.14     9.22  ",
      "text/html": "<div>\n<style scoped>\n    .dataframe tbody tr th:only-of-type {\n        vertical-align: middle;\n    }\n\n    .dataframe tbody tr th {\n        vertical-align: top;\n    }\n\n    .dataframe thead th {\n        text-align: right;\n    }\n</style>\n<table border=\"1\" class=\"dataframe\">\n  <thead>\n    <tr style=\"text-align: right;\">\n      <th></th>\n      <th>T_data_1_1</th>\n      <th>T_data_1_2</th>\n      <th>T_data_1_3</th>\n      <th>T_data_2_1</th>\n      <th>T_data_2_2</th>\n      <th>T_data_2_3</th>\n      <th>T_data_3_1</th>\n      <th>T_data_3_2</th>\n      <th>T_data_3_3</th>\n      <th>T_data_4_1</th>\n      <th>T_data_4_2</th>\n      <th>T_data_4_3</th>\n      <th>T_data_5_1</th>\n      <th>T_data_5_2</th>\n      <th>T_data_5_3</th>\n      <th>H_data</th>\n      <th>AH_data</th>\n    </tr>\n    <tr>\n      <th>Date</th>\n      <th></th>\n      <th></th>\n      <th></th>\n      <th></th>\n      <th></th>\n      <th></th>\n      <th></th>\n      <th></th>\n      <th></th>\n      <th></th>\n      <th></th>\n      <th></th>\n      <th></th>\n      <th></th>\n      <th></th>\n      <th></th>\n      <th></th>\n    </tr>\n  </thead>\n  <tbody>\n    <tr>\n      <th>2015-01-01 00:00:00</th>\n      <td>212</td>\n      <td>210</td>\n      <td>211</td>\n      <td>347</td>\n      <td>353</td>\n      <td>347</td>\n      <td>474</td>\n      <td>473</td>\n      <td>481</td>\n      <td>346</td>\n      <td>348</td>\n      <td>355</td>\n      <td>241</td>\n      <td>241</td>\n      <td>243</td>\n      <td>167.85</td>\n      <td>9.22</td>\n    </tr>\n    <tr>\n      <th>2015-01-01 00:01:00</th>\n      <td>212</td>\n      <td>211</td>\n      <td>211</td>\n      <td>346</td>\n      <td>352</td>\n      <td>346</td>\n      <td>475</td>\n      <td>473</td>\n      <td>481</td>\n      <td>349</td>\n      <td>348</td>\n      <td>355</td>\n      <td>241</td>\n      <td>241</td>\n      <td>243</td>\n      <td>162.51</td>\n      <td>9.22</td>\n    </tr>\n    <tr>\n      <th>2015-01-01 00:02:00</th>\n      <td>212</td>\n      <td>211</td>\n      <td>211</td>\n      <td>345</td>\n      <td>352</td>\n      <td>346</td>\n      <td>476</td>\n      <td>473</td>\n      <td>481</td>\n      <td>352</td>\n      <td>349</td>\n      <td>355</td>\n      <td>242</td>\n      <td>241</td>\n      <td>242</td>\n      <td>164.99</td>\n      <td>9.22</td>\n    </tr>\n    <tr>\n      <th>2015-01-01 00:03:00</th>\n      <td>213</td>\n      <td>211</td>\n      <td>211</td>\n      <td>344</td>\n      <td>351</td>\n      <td>346</td>\n      <td>477</td>\n      <td>473</td>\n      <td>481</td>\n      <td>355</td>\n      <td>349</td>\n      <td>355</td>\n      <td>242</td>\n      <td>241</td>\n      <td>242</td>\n      <td>167.34</td>\n      <td>9.22</td>\n    </tr>\n    <tr>\n      <th>2015-01-01 00:04:00</th>\n      <td>213</td>\n      <td>211</td>\n      <td>211</td>\n      <td>343</td>\n      <td>350</td>\n      <td>346</td>\n      <td>478</td>\n      <td>473</td>\n      <td>482</td>\n      <td>358</td>\n      <td>349</td>\n      <td>355</td>\n      <td>243</td>\n      <td>241</td>\n      <td>242</td>\n      <td>163.04</td>\n      <td>9.22</td>\n    </tr>\n    <tr>\n      <th>2015-01-01 00:05:00</th>\n      <td>213</td>\n      <td>211</td>\n      <td>211</td>\n      <td>342</td>\n      <td>350</td>\n      <td>346</td>\n      <td>479</td>\n      <td>473</td>\n      <td>482</td>\n      <td>360</td>\n      <td>349</td>\n      <td>354</td>\n      <td>243</td>\n      <td>241</td>\n      <td>242</td>\n      <td>163.81</td>\n      <td>9.22</td>\n    </tr>\n    <tr>\n      <th>2015-01-01 00:06:00</th>\n      <td>213</td>\n      <td>212</td>\n      <td>211</td>\n      <td>341</td>\n      <td>349</td>\n      <td>346</td>\n      <td>480</td>\n      <td>473</td>\n      <td>482</td>\n      <td>363</td>\n      <td>350</td>\n      <td>354</td>\n      <td>244</td>\n      <td>241</td>\n      <td>242</td>\n      <td>166.14</td>\n      <td>9.22</td>\n    </tr>\n  </tbody>\n</table>\n</div>"
     },
     "execution_count": 3,
     "metadata": {},
     "output_type": "execute_result"
    }
   ],
   "source": [
    "df.head(7)"
   ],
   "metadata": {
    "collapsed": false,
    "pycharm": {
     "name": "#%%\n"
    }
   }
  },
  {
   "cell_type": "markdown",
   "source": [
    "надо бы разбить данные на тренировочные и тестовые"
   ],
   "metadata": {
    "collapsed": false
   }
  },
  {
   "cell_type": "code",
   "execution_count": 4,
   "outputs": [
    {
     "data": {
      "text/plain": "                     T_data_1_1  T_data_1_2  T_data_1_3  T_data_2_1  \\\nDate                                                                  \n2015-01-03 23:05:00         266         339         263         335   \n2015-01-03 23:06:00         266         339         263         334   \n2015-01-03 23:07:00         267         339         263         334   \n2015-01-03 23:08:00         267         339         263         334   \n2015-01-03 23:09:00         267         340         263         334   \n...                         ...         ...         ...         ...   \n2015-01-04 00:10:00         277         322         273         321   \n2015-01-04 00:11:00         277         322         273         321   \n2015-01-04 00:12:00         277         321         274         321   \n2015-01-04 00:13:00         277         320         274         321   \n2015-01-04 00:14:00         277         319         274         321   \n\n                     T_data_2_2  T_data_2_3  T_data_3_1  T_data_3_2  \\\nDate                                                                  \n2015-01-03 23:05:00         326         341         495         497   \n2015-01-03 23:06:00         326         341         496         498   \n2015-01-03 23:07:00         326         341         496         498   \n2015-01-03 23:08:00         326         341         497         498   \n2015-01-03 23:09:00         326         342         497         498   \n...                         ...         ...         ...         ...   \n2015-01-04 00:10:00         334         353         504         501   \n2015-01-04 00:11:00         334         353         504         501   \n2015-01-04 00:12:00         334         354         504         501   \n2015-01-04 00:13:00         334         354         504         501   \n2015-01-04 00:14:00         334         354         504         501   \n\n                     T_data_3_3  T_data_4_1  T_data_4_2  T_data_4_3  \\\nDate                                                                  \n2015-01-03 23:05:00         535         316         346         336   \n2015-01-03 23:06:00         537         317         347         336   \n2015-01-03 23:07:00         538         317         348         336   \n2015-01-03 23:08:00         540         317         348         336   \n2015-01-03 23:09:00         542         317         349         336   \n...                         ...         ...         ...         ...   \n2015-01-04 00:10:00         684         327         381         337   \n2015-01-04 00:11:00         687         327         381         337   \n2015-01-04 00:12:00         690         327         382         337   \n2015-01-04 00:13:00         692         327         382         337   \n2015-01-04 00:14:00         695         327         382         337   \n\n                     T_data_5_1  T_data_5_2  T_data_5_3  H_data  AH_data  \nDate                                                                      \n2015-01-03 23:05:00         234         238         239  154.87     4.73  \n2015-01-03 23:06:00         234         238         239  155.06     4.73  \n2015-01-03 23:07:00         233         238         239  155.19     4.73  \n2015-01-03 23:08:00         233         238         239  154.35     4.73  \n2015-01-03 23:09:00         233         238         240  153.78     4.73  \n...                         ...         ...         ...     ...      ...  \n2015-01-04 00:10:00         231         236         241  159.23     7.90  \n2015-01-04 00:11:00         231         236         241  155.84     7.90  \n2015-01-04 00:12:00         231         236         241  155.62     7.90  \n2015-01-04 00:13:00         231         236         241  157.55     7.90  \n2015-01-04 00:14:00         231         236         241  154.84     7.90  \n\n[70 rows x 17 columns]",
      "text/html": "<div>\n<style scoped>\n    .dataframe tbody tr th:only-of-type {\n        vertical-align: middle;\n    }\n\n    .dataframe tbody tr th {\n        vertical-align: top;\n    }\n\n    .dataframe thead th {\n        text-align: right;\n    }\n</style>\n<table border=\"1\" class=\"dataframe\">\n  <thead>\n    <tr style=\"text-align: right;\">\n      <th></th>\n      <th>T_data_1_1</th>\n      <th>T_data_1_2</th>\n      <th>T_data_1_3</th>\n      <th>T_data_2_1</th>\n      <th>T_data_2_2</th>\n      <th>T_data_2_3</th>\n      <th>T_data_3_1</th>\n      <th>T_data_3_2</th>\n      <th>T_data_3_3</th>\n      <th>T_data_4_1</th>\n      <th>T_data_4_2</th>\n      <th>T_data_4_3</th>\n      <th>T_data_5_1</th>\n      <th>T_data_5_2</th>\n      <th>T_data_5_3</th>\n      <th>H_data</th>\n      <th>AH_data</th>\n    </tr>\n    <tr>\n      <th>Date</th>\n      <th></th>\n      <th></th>\n      <th></th>\n      <th></th>\n      <th></th>\n      <th></th>\n      <th></th>\n      <th></th>\n      <th></th>\n      <th></th>\n      <th></th>\n      <th></th>\n      <th></th>\n      <th></th>\n      <th></th>\n      <th></th>\n      <th></th>\n    </tr>\n  </thead>\n  <tbody>\n    <tr>\n      <th>2015-01-03 23:05:00</th>\n      <td>266</td>\n      <td>339</td>\n      <td>263</td>\n      <td>335</td>\n      <td>326</td>\n      <td>341</td>\n      <td>495</td>\n      <td>497</td>\n      <td>535</td>\n      <td>316</td>\n      <td>346</td>\n      <td>336</td>\n      <td>234</td>\n      <td>238</td>\n      <td>239</td>\n      <td>154.87</td>\n      <td>4.73</td>\n    </tr>\n    <tr>\n      <th>2015-01-03 23:06:00</th>\n      <td>266</td>\n      <td>339</td>\n      <td>263</td>\n      <td>334</td>\n      <td>326</td>\n      <td>341</td>\n      <td>496</td>\n      <td>498</td>\n      <td>537</td>\n      <td>317</td>\n      <td>347</td>\n      <td>336</td>\n      <td>234</td>\n      <td>238</td>\n      <td>239</td>\n      <td>155.06</td>\n      <td>4.73</td>\n    </tr>\n    <tr>\n      <th>2015-01-03 23:07:00</th>\n      <td>267</td>\n      <td>339</td>\n      <td>263</td>\n      <td>334</td>\n      <td>326</td>\n      <td>341</td>\n      <td>496</td>\n      <td>498</td>\n      <td>538</td>\n      <td>317</td>\n      <td>348</td>\n      <td>336</td>\n      <td>233</td>\n      <td>238</td>\n      <td>239</td>\n      <td>155.19</td>\n      <td>4.73</td>\n    </tr>\n    <tr>\n      <th>2015-01-03 23:08:00</th>\n      <td>267</td>\n      <td>339</td>\n      <td>263</td>\n      <td>334</td>\n      <td>326</td>\n      <td>341</td>\n      <td>497</td>\n      <td>498</td>\n      <td>540</td>\n      <td>317</td>\n      <td>348</td>\n      <td>336</td>\n      <td>233</td>\n      <td>238</td>\n      <td>239</td>\n      <td>154.35</td>\n      <td>4.73</td>\n    </tr>\n    <tr>\n      <th>2015-01-03 23:09:00</th>\n      <td>267</td>\n      <td>340</td>\n      <td>263</td>\n      <td>334</td>\n      <td>326</td>\n      <td>342</td>\n      <td>497</td>\n      <td>498</td>\n      <td>542</td>\n      <td>317</td>\n      <td>349</td>\n      <td>336</td>\n      <td>233</td>\n      <td>238</td>\n      <td>240</td>\n      <td>153.78</td>\n      <td>4.73</td>\n    </tr>\n    <tr>\n      <th>...</th>\n      <td>...</td>\n      <td>...</td>\n      <td>...</td>\n      <td>...</td>\n      <td>...</td>\n      <td>...</td>\n      <td>...</td>\n      <td>...</td>\n      <td>...</td>\n      <td>...</td>\n      <td>...</td>\n      <td>...</td>\n      <td>...</td>\n      <td>...</td>\n      <td>...</td>\n      <td>...</td>\n      <td>...</td>\n    </tr>\n    <tr>\n      <th>2015-01-04 00:10:00</th>\n      <td>277</td>\n      <td>322</td>\n      <td>273</td>\n      <td>321</td>\n      <td>334</td>\n      <td>353</td>\n      <td>504</td>\n      <td>501</td>\n      <td>684</td>\n      <td>327</td>\n      <td>381</td>\n      <td>337</td>\n      <td>231</td>\n      <td>236</td>\n      <td>241</td>\n      <td>159.23</td>\n      <td>7.90</td>\n    </tr>\n    <tr>\n      <th>2015-01-04 00:11:00</th>\n      <td>277</td>\n      <td>322</td>\n      <td>273</td>\n      <td>321</td>\n      <td>334</td>\n      <td>353</td>\n      <td>504</td>\n      <td>501</td>\n      <td>687</td>\n      <td>327</td>\n      <td>381</td>\n      <td>337</td>\n      <td>231</td>\n      <td>236</td>\n      <td>241</td>\n      <td>155.84</td>\n      <td>7.90</td>\n    </tr>\n    <tr>\n      <th>2015-01-04 00:12:00</th>\n      <td>277</td>\n      <td>321</td>\n      <td>274</td>\n      <td>321</td>\n      <td>334</td>\n      <td>354</td>\n      <td>504</td>\n      <td>501</td>\n      <td>690</td>\n      <td>327</td>\n      <td>382</td>\n      <td>337</td>\n      <td>231</td>\n      <td>236</td>\n      <td>241</td>\n      <td>155.62</td>\n      <td>7.90</td>\n    </tr>\n    <tr>\n      <th>2015-01-04 00:13:00</th>\n      <td>277</td>\n      <td>320</td>\n      <td>274</td>\n      <td>321</td>\n      <td>334</td>\n      <td>354</td>\n      <td>504</td>\n      <td>501</td>\n      <td>692</td>\n      <td>327</td>\n      <td>382</td>\n      <td>337</td>\n      <td>231</td>\n      <td>236</td>\n      <td>241</td>\n      <td>157.55</td>\n      <td>7.90</td>\n    </tr>\n    <tr>\n      <th>2015-01-04 00:14:00</th>\n      <td>277</td>\n      <td>319</td>\n      <td>274</td>\n      <td>321</td>\n      <td>334</td>\n      <td>354</td>\n      <td>504</td>\n      <td>501</td>\n      <td>695</td>\n      <td>327</td>\n      <td>382</td>\n      <td>337</td>\n      <td>231</td>\n      <td>236</td>\n      <td>241</td>\n      <td>154.84</td>\n      <td>7.90</td>\n    </tr>\n  </tbody>\n</table>\n<p>70 rows × 17 columns</p>\n</div>"
     },
     "execution_count": 4,
     "metadata": {},
     "output_type": "execute_result"
    }
   ],
   "source": [
    "X_train = df.loc[(df.index < \"2018-05-03 23:05:00\") & (df.index >= \"2015-01-03 23:05:00\")]\n",
    "X_train.head(70)"
   ],
   "metadata": {
    "collapsed": false,
    "pycharm": {
     "name": "#%%\n"
    }
   }
  },
  {
   "cell_type": "markdown",
   "source": [
    "Заметим, что в тренировочных данных почему-то данные только с 4 января, а не с начала года. Поэтому отсечём тренировочные \"иксы\" начиная за час до начала тренировочных \"игреков\""
   ],
   "metadata": {
    "collapsed": false
   }
  },
  {
   "cell_type": "code",
   "execution_count": 5,
   "outputs": [
    {
     "data": {
      "text/plain": "                     score\nDate                      \n2015-01-04 00:05:00    392\n2015-01-04 01:05:00    384\n2015-01-04 02:05:00    393\n2015-01-04 03:05:00    399\n2015-01-04 04:05:00    400",
      "text/html": "<div>\n<style scoped>\n    .dataframe tbody tr th:only-of-type {\n        vertical-align: middle;\n    }\n\n    .dataframe tbody tr th {\n        vertical-align: top;\n    }\n\n    .dataframe thead th {\n        text-align: right;\n    }\n</style>\n<table border=\"1\" class=\"dataframe\">\n  <thead>\n    <tr style=\"text-align: right;\">\n      <th></th>\n      <th>score</th>\n    </tr>\n    <tr>\n      <th>Date</th>\n      <th></th>\n    </tr>\n  </thead>\n  <tbody>\n    <tr>\n      <th>2015-01-04 00:05:00</th>\n      <td>392</td>\n    </tr>\n    <tr>\n      <th>2015-01-04 01:05:00</th>\n      <td>384</td>\n    </tr>\n    <tr>\n      <th>2015-01-04 02:05:00</th>\n      <td>393</td>\n    </tr>\n    <tr>\n      <th>2015-01-04 03:05:00</th>\n      <td>399</td>\n    </tr>\n    <tr>\n      <th>2015-01-04 04:05:00</th>\n      <td>400</td>\n    </tr>\n  </tbody>\n</table>\n</div>"
     },
     "execution_count": 5,
     "metadata": {},
     "output_type": "execute_result"
    }
   ],
   "source": [
    "Y_train = pd.read_csv(\"Y_train.csv\",names=[\"Date\", \"score\"], index_col=\"Date\", parse_dates=True, sep = ';')\n",
    "Y_train.head()"
   ],
   "metadata": {
    "collapsed": false,
    "pycharm": {
     "name": "#%%\n"
    }
   }
  },
  {
   "cell_type": "code",
   "execution_count": 32,
   "outputs": [
    {
     "data": {
      "text/plain": "score    264\ndtype: int64"
     },
     "execution_count": 32,
     "metadata": {},
     "output_type": "execute_result"
    }
   ],
   "source": [
    "Y_train.nunique()"
   ],
   "metadata": {
    "collapsed": false,
    "pycharm": {
     "name": "#%%\n"
    }
   }
  },
  {
   "cell_type": "markdown",
   "source": [
    "И тут мы понимаем, что, вероятно, стоит писать нейронку. Ибо быстрый гуглёж показыват, что на таком кол-ве классов рандом форест чувствует себя не очень хорошо"
   ],
   "metadata": {
    "collapsed": false
   }
  },
  {
   "cell_type": "markdown",
   "source": [
    "Вроде бы сработало. Аналогично для сабмита:"
   ],
   "metadata": {
    "collapsed": false
   }
  },
  {
   "cell_type": "code",
   "execution_count": 7,
   "outputs": [
    {
     "data": {
      "text/plain": "                     T_data_1_1  T_data_1_2  T_data_1_3  T_data_2_1  \\\nDate                                                                  \n2018-12-31 22:45:00         271         265         260         357   \n2018-12-31 22:46:00         271         264         261         357   \n2018-12-31 22:47:00         271         263         261         357   \n2018-12-31 22:48:00         271         262         261         357   \n2018-12-31 22:49:00         271         261         261         357   \n2018-12-31 22:50:00         271         261         261         357   \n2018-12-31 22:51:00         271         260         261         357   \n2018-12-31 22:52:00         271         259         261         357   \n2018-12-31 22:53:00         271         258         261         357   \n2018-12-31 22:54:00         271         257         262         357   \n2018-12-31 22:55:00         271         256         262         357   \n2018-12-31 22:56:00         271         255         262         357   \n2018-12-31 22:57:00         271         254         262         357   \n2018-12-31 22:58:00         271         253         262         357   \n2018-12-31 22:59:00         271         252         262         357   \n2018-12-31 23:00:00         271         252         262         357   \n2018-12-31 23:01:00         271         251         262         357   \n2018-12-31 23:02:00         271         250         263         357   \n2018-12-31 23:03:00         271         249         263         357   \n2018-12-31 23:04:00         271         248         263         357   \n\n                     T_data_2_2  T_data_2_3  T_data_3_1  T_data_3_2  \\\nDate                                                                  \n2018-12-31 22:45:00         351         359         481         449   \n2018-12-31 22:46:00         355         359         481         449   \n2018-12-31 22:47:00         359         359         481         449   \n2018-12-31 22:48:00         359         359         481         449   \n2018-12-31 22:49:00         359         359         481         449   \n2018-12-31 22:50:00         359         359         481         449   \n2018-12-31 22:51:00         359         359         481         449   \n2018-12-31 22:52:00         359         359         481         449   \n2018-12-31 22:53:00         359         359         481         449   \n2018-12-31 22:54:00         359         360         481         449   \n2018-12-31 22:55:00         359         360         481         449   \n2018-12-31 22:56:00         359         360         481         449   \n2018-12-31 22:57:00         359         360         481         449   \n2018-12-31 22:58:00         359         360         481         449   \n2018-12-31 22:59:00         359         360         481         449   \n2018-12-31 23:00:00         359         360         481         449   \n2018-12-31 23:01:00         359         360         481         449   \n2018-12-31 23:02:00         359         360         481         449   \n2018-12-31 23:03:00         359         360         481         449   \n2018-12-31 23:04:00         359         360         481         449   \n\n                     T_data_3_3  T_data_4_1  T_data_4_2  T_data_4_3  \\\nDate                                                                  \n2018-12-31 22:45:00         491         325         331         327   \n2018-12-31 22:46:00         491         325         331         327   \n2018-12-31 22:47:00         491         325         331         327   \n2018-12-31 22:48:00         491         325         331         327   \n2018-12-31 22:49:00         491         325         331         327   \n2018-12-31 22:50:00         491         325         331         327   \n2018-12-31 22:51:00         491         325         331         327   \n2018-12-31 22:52:00         491         325         331         327   \n2018-12-31 22:53:00         491         325         332         327   \n2018-12-31 22:54:00         491         325         332         327   \n2018-12-31 22:55:00         491         325         332         327   \n2018-12-31 22:56:00         491         325         332         327   \n2018-12-31 22:57:00         491         325         332         328   \n2018-12-31 22:58:00         491         325         332         328   \n2018-12-31 22:59:00         491         325         332         328   \n2018-12-31 23:00:00         491         325         332         328   \n2018-12-31 23:01:00         491         325         332         328   \n2018-12-31 23:02:00         491         325         332         328   \n2018-12-31 23:03:00         491         325         332         328   \n2018-12-31 23:04:00         491         325         333         328   \n\n                     T_data_5_1  T_data_5_2  T_data_5_3  H_data  AH_data  \nDate                                                                      \n2018-12-31 22:45:00         277         276         280  157.82     6.13  \n2018-12-31 22:46:00         277         276         280  157.68     6.13  \n2018-12-31 22:47:00         277         276         280  159.87     6.13  \n2018-12-31 22:48:00         277         276         280  161.51     6.13  \n2018-12-31 22:49:00         277         276         280  159.33     6.13  \n2018-12-31 22:50:00         277         276         280  158.26     6.13  \n2018-12-31 22:51:00         277         276         280  161.93     6.13  \n2018-12-31 22:52:00         277         276         280  157.99     6.13  \n2018-12-31 22:53:00         277         276         280  161.65     6.13  \n2018-12-31 22:54:00         277         276         280  161.54     6.13  \n2018-12-31 22:55:00         277         276         280  154.92     6.13  \n2018-12-31 22:56:00         277         276         280  159.26     6.13  \n2018-12-31 22:57:00         277         276         280  161.05     6.13  \n2018-12-31 22:58:00         277         276         280  160.32     6.13  \n2018-12-31 22:59:00         277         276         280  158.21     6.13  \n2018-12-31 23:00:00         277         276         280  159.55     8.44  \n2018-12-31 23:01:00         277         276         280  159.78     8.44  \n2018-12-31 23:02:00         277         276         280  158.36     8.44  \n2018-12-31 23:03:00         277         276         280  159.77     8.44  \n2018-12-31 23:04:00         277         276         280  161.62     8.44  ",
      "text/html": "<div>\n<style scoped>\n    .dataframe tbody tr th:only-of-type {\n        vertical-align: middle;\n    }\n\n    .dataframe tbody tr th {\n        vertical-align: top;\n    }\n\n    .dataframe thead th {\n        text-align: right;\n    }\n</style>\n<table border=\"1\" class=\"dataframe\">\n  <thead>\n    <tr style=\"text-align: right;\">\n      <th></th>\n      <th>T_data_1_1</th>\n      <th>T_data_1_2</th>\n      <th>T_data_1_3</th>\n      <th>T_data_2_1</th>\n      <th>T_data_2_2</th>\n      <th>T_data_2_3</th>\n      <th>T_data_3_1</th>\n      <th>T_data_3_2</th>\n      <th>T_data_3_3</th>\n      <th>T_data_4_1</th>\n      <th>T_data_4_2</th>\n      <th>T_data_4_3</th>\n      <th>T_data_5_1</th>\n      <th>T_data_5_2</th>\n      <th>T_data_5_3</th>\n      <th>H_data</th>\n      <th>AH_data</th>\n    </tr>\n    <tr>\n      <th>Date</th>\n      <th></th>\n      <th></th>\n      <th></th>\n      <th></th>\n      <th></th>\n      <th></th>\n      <th></th>\n      <th></th>\n      <th></th>\n      <th></th>\n      <th></th>\n      <th></th>\n      <th></th>\n      <th></th>\n      <th></th>\n      <th></th>\n      <th></th>\n    </tr>\n  </thead>\n  <tbody>\n    <tr>\n      <th>2018-12-31 22:45:00</th>\n      <td>271</td>\n      <td>265</td>\n      <td>260</td>\n      <td>357</td>\n      <td>351</td>\n      <td>359</td>\n      <td>481</td>\n      <td>449</td>\n      <td>491</td>\n      <td>325</td>\n      <td>331</td>\n      <td>327</td>\n      <td>277</td>\n      <td>276</td>\n      <td>280</td>\n      <td>157.82</td>\n      <td>6.13</td>\n    </tr>\n    <tr>\n      <th>2018-12-31 22:46:00</th>\n      <td>271</td>\n      <td>264</td>\n      <td>261</td>\n      <td>357</td>\n      <td>355</td>\n      <td>359</td>\n      <td>481</td>\n      <td>449</td>\n      <td>491</td>\n      <td>325</td>\n      <td>331</td>\n      <td>327</td>\n      <td>277</td>\n      <td>276</td>\n      <td>280</td>\n      <td>157.68</td>\n      <td>6.13</td>\n    </tr>\n    <tr>\n      <th>2018-12-31 22:47:00</th>\n      <td>271</td>\n      <td>263</td>\n      <td>261</td>\n      <td>357</td>\n      <td>359</td>\n      <td>359</td>\n      <td>481</td>\n      <td>449</td>\n      <td>491</td>\n      <td>325</td>\n      <td>331</td>\n      <td>327</td>\n      <td>277</td>\n      <td>276</td>\n      <td>280</td>\n      <td>159.87</td>\n      <td>6.13</td>\n    </tr>\n    <tr>\n      <th>2018-12-31 22:48:00</th>\n      <td>271</td>\n      <td>262</td>\n      <td>261</td>\n      <td>357</td>\n      <td>359</td>\n      <td>359</td>\n      <td>481</td>\n      <td>449</td>\n      <td>491</td>\n      <td>325</td>\n      <td>331</td>\n      <td>327</td>\n      <td>277</td>\n      <td>276</td>\n      <td>280</td>\n      <td>161.51</td>\n      <td>6.13</td>\n    </tr>\n    <tr>\n      <th>2018-12-31 22:49:00</th>\n      <td>271</td>\n      <td>261</td>\n      <td>261</td>\n      <td>357</td>\n      <td>359</td>\n      <td>359</td>\n      <td>481</td>\n      <td>449</td>\n      <td>491</td>\n      <td>325</td>\n      <td>331</td>\n      <td>327</td>\n      <td>277</td>\n      <td>276</td>\n      <td>280</td>\n      <td>159.33</td>\n      <td>6.13</td>\n    </tr>\n    <tr>\n      <th>2018-12-31 22:50:00</th>\n      <td>271</td>\n      <td>261</td>\n      <td>261</td>\n      <td>357</td>\n      <td>359</td>\n      <td>359</td>\n      <td>481</td>\n      <td>449</td>\n      <td>491</td>\n      <td>325</td>\n      <td>331</td>\n      <td>327</td>\n      <td>277</td>\n      <td>276</td>\n      <td>280</td>\n      <td>158.26</td>\n      <td>6.13</td>\n    </tr>\n    <tr>\n      <th>2018-12-31 22:51:00</th>\n      <td>271</td>\n      <td>260</td>\n      <td>261</td>\n      <td>357</td>\n      <td>359</td>\n      <td>359</td>\n      <td>481</td>\n      <td>449</td>\n      <td>491</td>\n      <td>325</td>\n      <td>331</td>\n      <td>327</td>\n      <td>277</td>\n      <td>276</td>\n      <td>280</td>\n      <td>161.93</td>\n      <td>6.13</td>\n    </tr>\n    <tr>\n      <th>2018-12-31 22:52:00</th>\n      <td>271</td>\n      <td>259</td>\n      <td>261</td>\n      <td>357</td>\n      <td>359</td>\n      <td>359</td>\n      <td>481</td>\n      <td>449</td>\n      <td>491</td>\n      <td>325</td>\n      <td>331</td>\n      <td>327</td>\n      <td>277</td>\n      <td>276</td>\n      <td>280</td>\n      <td>157.99</td>\n      <td>6.13</td>\n    </tr>\n    <tr>\n      <th>2018-12-31 22:53:00</th>\n      <td>271</td>\n      <td>258</td>\n      <td>261</td>\n      <td>357</td>\n      <td>359</td>\n      <td>359</td>\n      <td>481</td>\n      <td>449</td>\n      <td>491</td>\n      <td>325</td>\n      <td>332</td>\n      <td>327</td>\n      <td>277</td>\n      <td>276</td>\n      <td>280</td>\n      <td>161.65</td>\n      <td>6.13</td>\n    </tr>\n    <tr>\n      <th>2018-12-31 22:54:00</th>\n      <td>271</td>\n      <td>257</td>\n      <td>262</td>\n      <td>357</td>\n      <td>359</td>\n      <td>360</td>\n      <td>481</td>\n      <td>449</td>\n      <td>491</td>\n      <td>325</td>\n      <td>332</td>\n      <td>327</td>\n      <td>277</td>\n      <td>276</td>\n      <td>280</td>\n      <td>161.54</td>\n      <td>6.13</td>\n    </tr>\n    <tr>\n      <th>2018-12-31 22:55:00</th>\n      <td>271</td>\n      <td>256</td>\n      <td>262</td>\n      <td>357</td>\n      <td>359</td>\n      <td>360</td>\n      <td>481</td>\n      <td>449</td>\n      <td>491</td>\n      <td>325</td>\n      <td>332</td>\n      <td>327</td>\n      <td>277</td>\n      <td>276</td>\n      <td>280</td>\n      <td>154.92</td>\n      <td>6.13</td>\n    </tr>\n    <tr>\n      <th>2018-12-31 22:56:00</th>\n      <td>271</td>\n      <td>255</td>\n      <td>262</td>\n      <td>357</td>\n      <td>359</td>\n      <td>360</td>\n      <td>481</td>\n      <td>449</td>\n      <td>491</td>\n      <td>325</td>\n      <td>332</td>\n      <td>327</td>\n      <td>277</td>\n      <td>276</td>\n      <td>280</td>\n      <td>159.26</td>\n      <td>6.13</td>\n    </tr>\n    <tr>\n      <th>2018-12-31 22:57:00</th>\n      <td>271</td>\n      <td>254</td>\n      <td>262</td>\n      <td>357</td>\n      <td>359</td>\n      <td>360</td>\n      <td>481</td>\n      <td>449</td>\n      <td>491</td>\n      <td>325</td>\n      <td>332</td>\n      <td>328</td>\n      <td>277</td>\n      <td>276</td>\n      <td>280</td>\n      <td>161.05</td>\n      <td>6.13</td>\n    </tr>\n    <tr>\n      <th>2018-12-31 22:58:00</th>\n      <td>271</td>\n      <td>253</td>\n      <td>262</td>\n      <td>357</td>\n      <td>359</td>\n      <td>360</td>\n      <td>481</td>\n      <td>449</td>\n      <td>491</td>\n      <td>325</td>\n      <td>332</td>\n      <td>328</td>\n      <td>277</td>\n      <td>276</td>\n      <td>280</td>\n      <td>160.32</td>\n      <td>6.13</td>\n    </tr>\n    <tr>\n      <th>2018-12-31 22:59:00</th>\n      <td>271</td>\n      <td>252</td>\n      <td>262</td>\n      <td>357</td>\n      <td>359</td>\n      <td>360</td>\n      <td>481</td>\n      <td>449</td>\n      <td>491</td>\n      <td>325</td>\n      <td>332</td>\n      <td>328</td>\n      <td>277</td>\n      <td>276</td>\n      <td>280</td>\n      <td>158.21</td>\n      <td>6.13</td>\n    </tr>\n    <tr>\n      <th>2018-12-31 23:00:00</th>\n      <td>271</td>\n      <td>252</td>\n      <td>262</td>\n      <td>357</td>\n      <td>359</td>\n      <td>360</td>\n      <td>481</td>\n      <td>449</td>\n      <td>491</td>\n      <td>325</td>\n      <td>332</td>\n      <td>328</td>\n      <td>277</td>\n      <td>276</td>\n      <td>280</td>\n      <td>159.55</td>\n      <td>8.44</td>\n    </tr>\n    <tr>\n      <th>2018-12-31 23:01:00</th>\n      <td>271</td>\n      <td>251</td>\n      <td>262</td>\n      <td>357</td>\n      <td>359</td>\n      <td>360</td>\n      <td>481</td>\n      <td>449</td>\n      <td>491</td>\n      <td>325</td>\n      <td>332</td>\n      <td>328</td>\n      <td>277</td>\n      <td>276</td>\n      <td>280</td>\n      <td>159.78</td>\n      <td>8.44</td>\n    </tr>\n    <tr>\n      <th>2018-12-31 23:02:00</th>\n      <td>271</td>\n      <td>250</td>\n      <td>263</td>\n      <td>357</td>\n      <td>359</td>\n      <td>360</td>\n      <td>481</td>\n      <td>449</td>\n      <td>491</td>\n      <td>325</td>\n      <td>332</td>\n      <td>328</td>\n      <td>277</td>\n      <td>276</td>\n      <td>280</td>\n      <td>158.36</td>\n      <td>8.44</td>\n    </tr>\n    <tr>\n      <th>2018-12-31 23:03:00</th>\n      <td>271</td>\n      <td>249</td>\n      <td>263</td>\n      <td>357</td>\n      <td>359</td>\n      <td>360</td>\n      <td>481</td>\n      <td>449</td>\n      <td>491</td>\n      <td>325</td>\n      <td>332</td>\n      <td>328</td>\n      <td>277</td>\n      <td>276</td>\n      <td>280</td>\n      <td>159.77</td>\n      <td>8.44</td>\n    </tr>\n    <tr>\n      <th>2018-12-31 23:04:00</th>\n      <td>271</td>\n      <td>248</td>\n      <td>263</td>\n      <td>357</td>\n      <td>359</td>\n      <td>360</td>\n      <td>481</td>\n      <td>449</td>\n      <td>491</td>\n      <td>325</td>\n      <td>333</td>\n      <td>328</td>\n      <td>277</td>\n      <td>276</td>\n      <td>280</td>\n      <td>161.62</td>\n      <td>8.44</td>\n    </tr>\n  </tbody>\n</table>\n</div>"
     },
     "execution_count": 7,
     "metadata": {},
     "output_type": "execute_result"
    }
   ],
   "source": [
    "X_submit = df.loc[(df.index >= \"2018-05-03 23:05:00\") & (df.index < \"2018-12-31 23:05:00\")]\n",
    "X_submit.tail(20)"
   ],
   "metadata": {
    "collapsed": false,
    "pycharm": {
     "name": "#%%\n"
    }
   }
  },
  {
   "cell_type": "code",
   "execution_count": 8,
   "outputs": [
    {
     "data": {
      "text/plain": "                     score\nDate                      \n2018-12-31 19:05:00    420\n2018-12-31 20:05:00    420\n2018-12-31 21:05:00    420\n2018-12-31 22:05:00    420\n2018-12-31 23:05:00    420",
      "text/html": "<div>\n<style scoped>\n    .dataframe tbody tr th:only-of-type {\n        vertical-align: middle;\n    }\n\n    .dataframe tbody tr th {\n        vertical-align: top;\n    }\n\n    .dataframe thead th {\n        text-align: right;\n    }\n</style>\n<table border=\"1\" class=\"dataframe\">\n  <thead>\n    <tr style=\"text-align: right;\">\n      <th></th>\n      <th>score</th>\n    </tr>\n    <tr>\n      <th>Date</th>\n      <th></th>\n    </tr>\n  </thead>\n  <tbody>\n    <tr>\n      <th>2018-12-31 19:05:00</th>\n      <td>420</td>\n    </tr>\n    <tr>\n      <th>2018-12-31 20:05:00</th>\n      <td>420</td>\n    </tr>\n    <tr>\n      <th>2018-12-31 21:05:00</th>\n      <td>420</td>\n    </tr>\n    <tr>\n      <th>2018-12-31 22:05:00</th>\n      <td>420</td>\n    </tr>\n    <tr>\n      <th>2018-12-31 23:05:00</th>\n      <td>420</td>\n    </tr>\n  </tbody>\n</table>\n</div>"
     },
     "execution_count": 8,
     "metadata": {},
     "output_type": "execute_result"
    }
   ],
   "source": [
    "Y_submit= pd.read_csv(\"Y_submit.csv\",names=[\"Date\", \"score\"] ,index_col=\"Date\", parse_dates=True, sep = ';', )\n",
    "Y_submit.tail()"
   ],
   "metadata": {
    "collapsed": false,
    "pycharm": {
     "name": "#%%\n"
    }
   }
  },
  {
   "cell_type": "markdown",
   "source": [
    "Препроцессинг данных почти завершён. Теперь закинем всё, что у нас есть в тензоры пайторча. Функцию для этого честно стащим со StackOverflow."
   ],
   "metadata": {
    "collapsed": false
   }
  },
  {
   "cell_type": "code",
   "execution_count": 9,
   "outputs": [
    {
     "name": "stdout",
     "output_type": "stream",
     "text": [
      "cuda:0\n"
     ]
    }
   ],
   "source": [
    "import torch\n",
    "import torch.nn as nn\n",
    "import torch.optim as optim\n",
    "from torch.utils.data.sampler import SubsetRandomSampler, Sampler\n",
    "# determine the supported device\n",
    "def get_device():\n",
    "    if torch.cuda.is_available():\n",
    "        device = torch.device('cuda:0')\n",
    "    else:\n",
    "        device = torch.device('cpu') # don't have GPU\n",
    "    return device\n",
    "\n",
    "# convert a df to tensor to be used in pytorch\n",
    "def df_to_tensor(df):\n",
    "    device = get_device()\n",
    "    return torch.from_numpy(df.values).float().to(device)\n",
    "\n",
    "#df_tensor = df_to_tensor(df)\n",
    "#print(df_tensor)\n",
    "print(get_device())\n",
    "device = get_device()"
   ],
   "metadata": {
    "collapsed": false,
    "pycharm": {
     "name": "#%%\n"
    }
   }
  },
  {
   "cell_type": "markdown",
   "source": [
    "Данные будем хранить на видеокарте."
   ],
   "metadata": {
    "collapsed": false
   }
  },
  {
   "cell_type": "markdown",
   "source": [
    "Закидываем в тензоры всё остальное"
   ],
   "metadata": {
    "collapsed": false
   }
  },
  {
   "cell_type": "code",
   "execution_count": 10,
   "outputs": [],
   "source": [
    "X_train_tensor  = df_to_tensor(X_train)\n",
    "X_submit_tensor = df_to_tensor(X_submit)\n",
    "Y_train_tensor = df_to_tensor(Y_train)\n",
    "Y_submit_tensor = df_to_tensor(Y_submit)"
   ],
   "metadata": {
    "collapsed": false,
    "pycharm": {
     "name": "#%%\n"
    }
   }
  },
  {
   "cell_type": "markdown",
   "source": [
    "Будем считать, что марку определяет вся история данных за последний час. Тогда имеем 60*17 = 1020 чисел — размер вектора для нейронной сети."
   ],
   "metadata": {
    "collapsed": false
   }
  },
  {
   "cell_type": "code",
   "execution_count": 11,
   "outputs": [
    {
     "name": "stdout",
     "output_type": "stream",
     "text": [
      "29184.0\n",
      "29184\n",
      "5808.0\n",
      "5808\n"
     ]
    }
   ],
   "source": [
    "print(len(X_train_tensor) / 60)\n",
    "print(len(Y_train_tensor))\n",
    "print(len(X_submit_tensor) / 60)\n",
    "print(len(Y_submit_tensor))"
   ],
   "metadata": {
    "collapsed": false,
    "pycharm": {
     "name": "#%%\n"
    }
   }
  },
  {
   "cell_type": "markdown",
   "source": [
    "Для самопроверки, мы ничего не потеряли. Раз мы сказали, что одно число из Y_train определяется 1020 числами из X_train, то разумно решейпнуть тензоры"
   ],
   "metadata": {
    "collapsed": false
   }
  },
  {
   "cell_type": "code",
   "execution_count": 12,
   "outputs": [
    {
     "data": {
      "text/plain": "tensor([[266.0000, 339.0000, 263.0000,  ..., 242.0000, 155.4500,   7.9000],\n        [277.0000, 326.0000, 273.0000,  ..., 230.0000, 156.0000,   6.9600],\n        [277.0000, 253.0000, 272.0000,  ..., 240.0000, 154.1500,   7.2900],\n        ...,\n        [259.0000, 255.0000, 260.0000,  ..., 247.0000, 158.8700,   7.6500],\n        [260.0000, 254.0000, 263.0000,  ..., 248.0000, 158.6500,   8.9000],\n        [255.0000, 255.0000, 260.0000,  ..., 245.0000, 153.7400,   6.3900]],\n       device='cuda:0')"
     },
     "execution_count": 12,
     "metadata": {},
     "output_type": "execute_result"
    }
   ],
   "source": [
    "X_train_tensor = torch.reshape(X_train_tensor, (len(Y_train_tensor), 1020))\n",
    "X_train_tensor"
   ],
   "metadata": {
    "collapsed": false,
    "pycharm": {
     "name": "#%%\n"
    }
   }
  },
  {
   "cell_type": "markdown",
   "source": [
    "сравнивая этот тензор с датафреймом выше, понимаем, что решейп прошёл успешно. делаем, аналогично для X_submit"
   ],
   "metadata": {
    "collapsed": false
   }
  },
  {
   "cell_type": "code",
   "execution_count": 13,
   "outputs": [
    {
     "data": {
      "text/plain": "tensor([[254.0000, 257.0000, 256.0000,  ..., 236.0000, 157.0500,   6.8100],\n        [258.0000, 261.0000, 256.0000,  ..., 236.0000, 155.7000,   7.8900],\n        [255.0000, 263.0000, 258.0000,  ..., 255.0000, 156.8800,   6.1600],\n        ...,\n        [263.0000, 260.0000, 257.0000,  ..., 278.0000, 188.5700,   8.3700],\n        [268.0000, 276.0000, 255.0000,  ..., 280.0000, 158.5900,   6.1300],\n        [320.0000, 285.0000, 257.0000,  ..., 280.0000, 161.6200,   8.4400]],\n       device='cuda:0')"
     },
     "execution_count": 13,
     "metadata": {},
     "output_type": "execute_result"
    }
   ],
   "source": [
    "X_submit_tensor = torch.reshape(X_submit_tensor, (len(Y_submit_tensor), 1020))\n",
    "X_submit_tensor"
   ],
   "metadata": {
    "collapsed": false,
    "pycharm": {
     "name": "#%%\n"
    }
   }
  },
  {
   "cell_type": "markdown",
   "source": [
    "Вроде бы можно начинать писать саму нейронную сеть. Сделаем хорошое дело и создадим свой класс датасета под нашу задачу."
   ],
   "metadata": {
    "collapsed": false
   }
  },
  {
   "cell_type": "code",
   "execution_count": 14,
   "outputs": [],
   "source": [
    "class Dataset(torch.utils.data.Dataset):\n",
    "    'Characterizes a dataset for PyTorch'\n",
    "    def __init__(self, data, labels):\n",
    "        'Initialization'\n",
    "        self.labels = labels\n",
    "        self.list_IDs = list(range(len(labels)))\n",
    "        self.data = data\n",
    "\n",
    "    def __len__(self):\n",
    "        'Denotes the total number of samples'\n",
    "        return len(self.list_IDs)\n",
    "\n",
    "    def __getitem__(self, index):\n",
    "        'Generates one sample of data'\n",
    "        # Select sample\n",
    "        ID = self.list_IDs[index]\n",
    "\n",
    "        # Load data and get label\n",
    "        X = self.data[ID]\n",
    "        y = self.labels[ID]\n",
    "\n",
    "        return X, y"
   ],
   "metadata": {
    "collapsed": false,
    "pycharm": {
     "name": "#%%\n"
    }
   }
  },
  {
   "cell_type": "markdown",
   "source": [
    "По факту следующая клетка кода не используется в финальном варианте исполнения. Она мне была нужна, когда я делал сплит по трейн даным для валидации. Но по итогу валидировался я уже на сабмите. Возможно спорное решение, но детали я опишу в отчёте."
   ],
   "metadata": {
    "collapsed": false
   }
  },
  {
   "cell_type": "code",
   "execution_count": 15,
   "outputs": [],
   "source": [
    "batch_size = 2048\n",
    "\n",
    "data_size = len(Y_train_tensor)\n",
    "validation_split = .2\n",
    "split = int(np.floor(validation_split * data_size))\n",
    "indices = list(range(data_size))\n",
    "np.random.shuffle(indices)\n",
    "\n",
    "train_indices, val_indices = indices[split:], indices[:split]\n",
    "\n",
    "train_set = Dataset(X_train_tensor, Y_train_tensor)\n",
    "\n",
    "submit_set = Dataset(X_submit_tensor, Y_submit_tensor)\n",
    "\n",
    "train_sampler = SubsetRandomSampler(train_indices)\n",
    "val_sampler = SubsetRandomSampler(val_indices)\n",
    "\n",
    "train_loader = torch.utils.data.DataLoader(train_set, batch_size=batch_size,\n",
    "                                           sampler=train_sampler)\n",
    "val_loader = torch.utils.data.DataLoader(train_set, batch_size=batch_size,\n",
    "                                         sampler=val_sampler)\n"
   ],
   "metadata": {
    "collapsed": false,
    "pycharm": {
     "name": "#%%\n"
    }
   }
  },
  {
   "cell_type": "markdown",
   "source": [
    "попробуем без валидации на трэйн сете, мб это даст лучшие результаты"
   ],
   "metadata": {
    "collapsed": false
   }
  },
  {
   "cell_type": "code",
   "execution_count": 16,
   "outputs": [],
   "source": [
    "batch_size = 4096\n",
    "\n",
    "data_size = len(Y_train_tensor)\n",
    "validation_split = .2\n",
    "split = int(np.floor(validation_split * data_size))\n",
    "indices = list(range(data_size))\n",
    "np.random.shuffle(indices)\n",
    "\n",
    "#train_indices, val_indices = indices[split:], indices[:split]\n",
    "train_indices = indices\n",
    "submit_indices = list(range(len(Y_submit_tensor)))\n",
    "np.random.shuffle(submit_indices)\n",
    "train_set = Dataset(X_train_tensor, Y_train_tensor)\n",
    "\n",
    "submit_set = Dataset(X_submit_tensor, Y_submit_tensor)\n",
    "\n",
    "train_sampler = SubsetRandomSampler(train_indices)\n",
    "submit_sampler = SubsetRandomSampler(submit_indices)\n",
    "\n",
    "train_loader = torch.utils.data.DataLoader(train_set, batch_size=batch_size,\n",
    "                                           sampler=train_sampler)\n",
    "submit_loader = torch.utils.data.DataLoader(submit_set, batch_size=batch_size,\n",
    "                                         sampler=submit_sampler)\n"
   ],
   "metadata": {
    "collapsed": false,
    "pycharm": {
     "name": "#%%\n"
    }
   }
  },
  {
   "cell_type": "markdown",
   "source": [
    "По сути следующая клетка — наше поле для экспериментов с гиперпараметрами (не считая размера батча из предыдущей).\n",
    "*ВАЖНО. В требованиях к выполнению задания была воспроизводимость результатов. Нейросеть я естественно обучал на видеокарте, причём совершенно домашней — GTX 1060 3Gb. Если на компе, на котором это задание будет проверяться не установлен пайторч нужным образом с поддержкой cuda (https://pytorch.org/get-started/locally/), либо на нём нет видеокарты с поддержкой CUDA, либо по ещё каким-то причинам этот код не захочет запускаться, этот ноутбук всегда можно запустить в google colab (https://colab.research.google.com/) и запустить его там. Видеопамяти там ещё больше, чем на моей домашней машинке, так что проблем точно не возникнет, я проверял :)"
   ],
   "metadata": {
    "collapsed": false
   }
  },
  {
   "cell_type": "code",
   "execution_count": 17,
   "outputs": [],
   "source": [
    "neurons = 2048\n",
    "nn_model = nn.Sequential(\n",
    "    nn.Linear(1020, neurons),\n",
    "    nn.ReLU(inplace=True),\n",
    "    nn.BatchNorm1d(neurons),\n",
    "    nn.Linear(neurons, neurons),\n",
    "    nn.ReLU(inplace=True),\n",
    "    nn.BatchNorm1d(neurons),\n",
    "    nn.Linear(neurons, neurons),\n",
    "    nn.ReLU(inplace=True),\n",
    "    #nn.BatchNorm1d(neurons),\n",
    "    nn.Linear(neurons, neurons),\n",
    "    nn.ReLU(inplace=True),\n",
    "    #nn.BatchNorm1d(neurons),\n",
    "    nn.Linear(neurons, neurons),\n",
    "    nn.ReLU(inplace=True),\n",
    "    nn.BatchNorm1d(neurons),\n",
    "    nn.Linear(neurons, neurons),\n",
    "    nn.ReLU(inplace=True),\n",
    "    #nn.BatchNorm1d(neurons),\n",
    "    nn.Linear(neurons, neurons),\n",
    "    nn.ReLU(inplace=True),\n",
    "    #nn.BatchNorm1d(neurons),\n",
    "    nn.Linear(neurons, neurons),\n",
    "    nn.ReLU(inplace=True),\n",
    "    nn.BatchNorm1d(neurons),\n",
    "    nn.Linear(neurons, neurons),\n",
    "    nn.ReLU(inplace=True),\n",
    "   #nn.BatchNorm1d(neurons),\n",
    "    nn.Linear(neurons, neurons),\n",
    "    nn.ReLU(inplace=True),\n",
    "    nn.BatchNorm1d(neurons),\n",
    "    nn.Linear(neurons, 1)\n",
    ")\n",
    "nn_model.type(torch.cuda.FloatTensor)\n",
    "nn_model.to(device)\n",
    "\n",
    "loss = nn.L1Loss().type(torch.cuda.FloatTensor)\n",
    "\n",
    "optimizer = optim.Adam(nn_model.parameters(), lr=7e-1, weight_decay=1e-2, amsgrad = True)\n",
    "#optimizer = optim.SGD(nn_model.parameters(), lr = 0.5, momentum=0.9, nesterov=True)\n",
    "scheduler = torch.optim.lr_scheduler.StepLR(optimizer, step_size=8, gamma=0.1)\n",
    "scheduler2 = torch.optim.lr_scheduler.ReduceLROnPlateau(optimizer, factor = 0.1, patience = 5)"
   ],
   "metadata": {
    "collapsed": false,
    "pycharm": {
     "name": "#%%\n"
    }
   }
  },
  {
   "cell_type": "markdown",
   "source": [
    "В качестве лосс-функции берём L1loss, что представляет из себя MAE, что потребовал от нас заказчик"
   ],
   "metadata": {
    "collapsed": false
   }
  },
  {
   "cell_type": "code",
   "execution_count": 157,
   "outputs": [
    {
     "name": "stdout",
     "output_type": "stream",
     "text": [
      "Average train loss: 687.680611, Average val loss: 392.035217\n",
      "Average train loss: 239.293819, Average val loss: 164964.718750\n",
      "Average train loss: 142.468666, Average val loss: 57179764.000000\n",
      "Average train loss: 56.729272, Average val loss: 4369.536133\n",
      "Average train loss: 59.517252, Average val loss: 6452.721436\n",
      "Average train loss: 66.585455, Average val loss: 27519.580078\n",
      "Average train loss: 90.525980, Average val loss: 1409.154053\n",
      "Average train loss: 27.561234, Average val loss: 70.009007\n",
      "Average train loss: 14.589830, Average val loss: 22.648419\n",
      "Average train loss: 11.699242, Average val loss: 0.315786\n",
      "Average train loss: 11.014960, Average val loss: 9.285642\n",
      "Average train loss: 10.282801, Average val loss: 16.251195\n",
      "Average train loss: 11.083506, Average val loss: 11.479354\n",
      "Average train loss: 11.069700, Average val loss: 9.969045\n",
      "Average train loss: 10.002920, Average val loss: 9.479786\n",
      "Average train loss: 10.375856, Average val loss: 9.023271\n",
      "Average train loss: 9.937660, Average val loss: 3.387107\n",
      "SUCCESS!\n"
     ]
    }
   ],
   "source": [
    "def train_model(model, train_loader, val_loader, loss, optimizer, scheduler, scheduler2, num_epochs):\n",
    "    train_loss_history = []\n",
    "    val_loss_history = []\n",
    "    for epoch in range(num_epochs):\n",
    "        model.train() # Enter train mode\n",
    "\n",
    "        loss_accum = 0\n",
    "\n",
    "        for i_step, (x, y) in enumerate(train_loader):\n",
    "            x_gpu = x.to(device)\n",
    "            y_gpu = y.to(device)\n",
    "            prediction = model(x_gpu)\n",
    "            loss_value = loss(prediction, y_gpu)\n",
    "            optimizer.zero_grad()\n",
    "            loss_value.backward()\n",
    "\n",
    "            optimizer.step()\n",
    "\n",
    "\n",
    "            loss_accum += float(loss_value)\n",
    "\n",
    "        ave_loss = loss_accum / (i_step + 1)\n",
    "\n",
    "        val_loss = compute_accuracy(model, val_loader)\n",
    "\n",
    "        if (ave_loss < 10) and (val_loss < 10):\n",
    "            print(\"Average train loss: %f, Average val loss: %f\" % (ave_loss, val_loss))\n",
    "            print(\"SUCCESS!\")\n",
    "            torch.save(model.state_dict(), \"model.pt\") #Сохраняем модельку, если точность нас устраивает\n",
    "            break #И выходим из цикла\n",
    "        scheduler.step()\n",
    "        scheduler2.step(val_loss)\n",
    "\n",
    "        train_loss_history.append(float(ave_loss))\n",
    "        val_loss_history.append(float(val_loss))\n",
    "\n",
    "        print(\"Average train loss: %f, Average val loss: %f\" % (ave_loss, val_loss))\n",
    "\n",
    "    return train_loss_history, val_loss_history\n",
    "\n",
    "def compute_accuracy(model, val_loader):\n",
    "    \"\"\"\n",
    "    Computes accuracy on the dataset wrapped in a loader\n",
    "\n",
    "    Returns: accuracy as a float value between 0 and 1\n",
    "    \"\"\"\n",
    "    model.eval() # Evaluation mode\n",
    "\n",
    "    loss_accum = 0\n",
    "\n",
    "    for i_step, (x, y) in enumerate(val_loader):\n",
    "        x_gpu = x.to(device)\n",
    "        y_gpu = y.to(device)\n",
    "        prediction = model(x_gpu)\n",
    "        loss_value = float(loss(prediction, y_gpu))\n",
    "        loss_accum += loss_value\n",
    "\n",
    "    ave_loss = loss_accum / (i_step + 1)\n",
    "\n",
    "\n",
    "    #raise Exception(\"Not implemented\")\n",
    "\n",
    "    return ave_loss\n",
    "\n",
    "#train_loss_history, val_loss_history = train_model(nn_model, train_loader, val_loader, loss, optimizer, scheduler, 200) добавим уменьшение лёрнинг рейта на плато валидационного лосса\n",
    "train_loss_history, val_loss_history = train_model(nn_model, train_loader, submit_loader, loss, optimizer, scheduler, scheduler2, 50)"
   ],
   "metadata": {
    "collapsed": false,
    "pycharm": {
     "name": "#%%\n"
    }
   }
  },
  {
   "cell_type": "markdown",
   "source": [
    "Следующая строчка кода просто для внезапной очистки памяти на GPU. У меня было всего 3Gb, мне было полезно. Использовать с осторожностью)"
   ],
   "metadata": {
    "collapsed": false
   }
  },
  {
   "cell_type": "code",
   "execution_count": 182,
   "outputs": [],
   "source": [
    "#torch.cuda.empty_cache()"
   ],
   "metadata": {
    "collapsed": false,
    "pycharm": {
     "name": "#%%\n"
    }
   }
  },
  {
   "cell_type": "markdown",
   "source": [
    "Построим графики лосса на валидации и трейне. Удалим несколько первых элементов, ибо там лосс непомерно большой и график будет неинформативный. Индексы для удаления просто на глаз исходя из вывода сверху. Зачастую удаления первых 8 элементов достаточно."
   ],
   "metadata": {
    "collapsed": false
   }
  },
  {
   "cell_type": "code",
   "execution_count": 94,
   "outputs": [],
   "source": [
    "a = train_loss_history\n",
    "b = val_loss_history\n",
    "\n",
    "del(a[0:8])\n",
    "del(b[0:8])"
   ],
   "metadata": {
    "collapsed": false,
    "pycharm": {
     "name": "#%%\n"
    }
   }
  },
  {
   "cell_type": "code",
   "execution_count": 95,
   "outputs": [
    {
     "data": {
      "text/plain": "<Figure size 432x288 with 1 Axes>",
      "image/png": "[encoded data removed]"
     },
     "metadata": {
      "needs_background": "light"
     },
     "output_type": "display_data"
    }
   ],
   "source": [
    "\n",
    "\n",
    "x_axis = list(range(len(a)))\n",
    "fig, ax = plt.subplots()\n",
    "ax.plot(x_axis, a, label = \"train\")\n",
    "ax.plot(x_axis, b, label = \"val\")\n",
    "ax.set_xlabel(\"epoch\")\n",
    "ax.set_ylabel(\"loss\")\n",
    "ax.legend()\n",
    "fig.savefig(\"train_val_loss_3.pdf\")"
   ],
   "metadata": {
    "collapsed": false,
    "pycharm": {
     "name": "#%%\n"
    }
   }
  },
  {
   "cell_type": "code",
   "execution_count": 162,
   "outputs": [
    {
     "data": {
      "text/plain": "torch.Size([5808, 1])"
     },
     "execution_count": 162,
     "metadata": {},
     "output_type": "execute_result"
    }
   ],
   "source": [
    "Y_submit_tensor.size()"
   ],
   "metadata": {
    "collapsed": false,
    "pycharm": {
     "name": "#%%\n"
    }
   }
  },
  {
   "cell_type": "markdown",
   "source": [
    "Модель натренировали, приступаем к предсказаниям. Сделаем лоадер"
   ],
   "metadata": {
    "collapsed": false
   }
  },
  {
   "cell_type": "code",
   "execution_count": 18,
   "outputs": [
    {
     "data": {
      "text/plain": "tensor([[416.5745],\n        [416.7686],\n        [416.8349],\n        ...,\n        [416.1400],\n        [416.9569],\n        [416.3790]], grad_fn=<CopySlices>)"
     },
     "execution_count": 18,
     "metadata": {},
     "output_type": "execute_result"
    }
   ],
   "source": [
    "nn_model.load_state_dict(torch.load(\"model_backup.pt\"))\n",
    "nn_model.eval()\n",
    "\n",
    "#batch_size = len(Y_submit_tensor)\n",
    "batch_size = 1\n",
    "predict_indices = list(range(len(Y_submit_tensor)))\n",
    "\n",
    "predict_set = Dataset(X_submit_tensor, Y_submit_tensor)\n",
    "\n",
    "predict_sampler = Sampler(submit_indices)\n",
    "\n",
    "predict_loader = torch.utils.data.DataLoader(predict_set, batch_size=batch_size,\n",
    "                                            sampler=submit_sampler)\n",
    "shape = (5808, 1,)\n",
    "pred_tensor = torch.zeros(shape)\n",
    "#pred_tensor_gpu = pred_tensor.to(device)\n",
    "\n",
    "for i_step, (x, y) in enumerate(predict_loader):\n",
    "    prediction = nn_model(x)\n",
    "    pred_tensor[i_step, 0] = prediction\n",
    "\n",
    "pred_tensor"
   ],
   "metadata": {
    "collapsed": false,
    "pycharm": {
     "name": "#%%\n"
    }
   }
  },
  {
   "cell_type": "markdown",
   "source": [
    "а вот и наши долгожданные предикты, теперь добавим их в датафрейм предикта и напечтаем в csv. Посчитаем MAE и пойдём довольные писать отчёт"
   ],
   "metadata": {
    "collapsed": false
   }
  },
  {
   "cell_type": "code",
   "execution_count": 27,
   "outputs": [
    {
     "data": {
      "text/plain": "                     score  predictions  absolute error\nDate                                                   \n2018-05-04 00:05:00    420   416.574493        3.425507\n2018-05-04 01:05:00    420   416.768585        3.231415\n2018-05-04 02:05:00    420   416.834900        3.165100\n2018-05-04 03:05:00    420   416.286407        3.713593\n2018-05-04 04:05:00    420   416.326874        3.673126",
      "text/html": "<div>\n<style scoped>\n    .dataframe tbody tr th:only-of-type {\n        vertical-align: middle;\n    }\n\n    .dataframe tbody tr th {\n        vertical-align: top;\n    }\n\n    .dataframe thead th {\n        text-align: right;\n    }\n</style>\n<table border=\"1\" class=\"dataframe\">\n  <thead>\n    <tr style=\"text-align: right;\">\n      <th></th>\n      <th>score</th>\n      <th>predictions</th>\n      <th>absolute error</th>\n    </tr>\n    <tr>\n      <th>Date</th>\n      <th></th>\n      <th></th>\n      <th></th>\n    </tr>\n  </thead>\n  <tbody>\n    <tr>\n      <th>2018-05-04 00:05:00</th>\n      <td>420</td>\n      <td>416.574493</td>\n      <td>3.425507</td>\n    </tr>\n    <tr>\n      <th>2018-05-04 01:05:00</th>\n      <td>420</td>\n      <td>416.768585</td>\n      <td>3.231415</td>\n    </tr>\n    <tr>\n      <th>2018-05-04 02:05:00</th>\n      <td>420</td>\n      <td>416.834900</td>\n      <td>3.165100</td>\n    </tr>\n    <tr>\n      <th>2018-05-04 03:05:00</th>\n      <td>420</td>\n      <td>416.286407</td>\n      <td>3.713593</td>\n    </tr>\n    <tr>\n      <th>2018-05-04 04:05:00</th>\n      <td>420</td>\n      <td>416.326874</td>\n      <td>3.673126</td>\n    </tr>\n  </tbody>\n</table>\n</div>"
     },
     "execution_count": 27,
     "metadata": {},
     "output_type": "execute_result"
    }
   ],
   "source": [
    "pred_array = pred_tensor.detach().numpy()\n",
    "Y_submit[\"predictions\"] = pred_array\n",
    "\n",
    "Y_submit[\"absolute error\"] = abs(Y_submit.score - Y_submit.predictions)\n",
    "Y_submit.head()"
   ],
   "metadata": {
    "collapsed": false,
    "pycharm": {
     "name": "#%%\n"
    }
   }
  },
  {
   "cell_type": "code",
   "execution_count": 28,
   "outputs": [
    {
     "name": "stdout",
     "output_type": "stream",
     "text": [
      "MAE:  3.3932678548429296\n"
     ]
    }
   ],
   "source": [
    "print(\"MAE: \", Y_submit[\"absolute error\"].mean())"
   ],
   "metadata": {
    "collapsed": false,
    "pycharm": {
     "name": "#%%\n"
    }
   }
  },
  {
   "cell_type": "code",
   "execution_count": 29,
   "outputs": [],
   "source": [
    "Y_submit.to_csv(\"Y_sub_pred.csv\", index = True)"
   ],
   "metadata": {
    "collapsed": false,
    "pycharm": {
     "name": "#%%\n"
    }
   }
  }
 ],
 "metadata": {
  "kernelspec": {
   "display_name": "Python 3",
   "language": "python",
   "name": "python3"
  },
  "language_info": {
   "codemirror_mode": {
    "name": "ipython",
    "version": 2
   },
   "file_extension": ".py",
   "mimetype": "text/x-python",
   "name": "python",
   "nbconvert_exporter": "python",
   "pygments_lexer": "ipython2",
   "version": "2.7.6"
  }
 },
 "nbformat": 4,
 "nbformat_minor": 0
}